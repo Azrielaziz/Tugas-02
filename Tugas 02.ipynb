{
 "cells": [
  {
   "cell_type": "code",
   "execution_count": 1,
   "metadata": {},
   "outputs": [],
   "source": [
    "import pandas as pd"
   ]
  },
  {
   "cell_type": "code",
   "execution_count": 21,
   "metadata": {},
   "outputs": [],
   "source": [
    "iris = pd.read_csv('http://data.jakarta.go.id/dataset/8d88fb11-d703-4d0c-ac53-38d8e9f39674/resource/f8b7531d-c2f8-4d95-9f87-c2e418c67758/download/290320180604431pengujian-unit-industri-fix.csv')"
   ]
  },
  {
   "cell_type": "code",
   "execution_count": 14,
   "metadata": {},
   "outputs": [
    {
     "data": {
      "text/html": [
       "<div>\n",
       "<style scoped>\n",
       "    .dataframe tbody tr th:only-of-type {\n",
       "        vertical-align: middle;\n",
       "    }\n",
       "\n",
       "    .dataframe tbody tr th {\n",
       "        vertical-align: top;\n",
       "    }\n",
       "\n",
       "    .dataframe thead th {\n",
       "        text-align: right;\n",
       "    }\n",
       "</style>\n",
       "<table border=\"1\" class=\"dataframe\">\n",
       "  <thead>\n",
       "    <tr style=\"text-align: right;\">\n",
       "      <th></th>\n",
       "      <th>jenis_kegiatan</th>\n",
       "      <th>detail_jenis_kegiatan</th>\n",
       "      <th>standar_yang_digunakan</th>\n",
       "      <th>tarif_rp</th>\n",
       "    </tr>\n",
       "  </thead>\n",
       "  <tbody>\n",
       "    <tr>\n",
       "      <td>0</td>\n",
       "      <td>Kain</td>\n",
       "      <td>Lebar Kain</td>\n",
       "      <td>SNI ISO 22198:2010</td>\n",
       "      <td>50000</td>\n",
       "    </tr>\n",
       "    <tr>\n",
       "      <td>1</td>\n",
       "      <td>Kain</td>\n",
       "      <td>Tebal kain</td>\n",
       "      <td>SNI ISO 5084:2010</td>\n",
       "      <td>40000</td>\n",
       "    </tr>\n",
       "    <tr>\n",
       "      <td>2</td>\n",
       "      <td>Kain</td>\n",
       "      <td>Berat kain per meter persegi</td>\n",
       "      <td>SNI ISO 3801:2010</td>\n",
       "      <td>50000</td>\n",
       "    </tr>\n",
       "    <tr>\n",
       "      <td>3</td>\n",
       "      <td>Kain</td>\n",
       "      <td>Berat Kain per meter linier</td>\n",
       "      <td>SNI ISO 3801:2010</td>\n",
       "      <td>50000</td>\n",
       "    </tr>\n",
       "    <tr>\n",
       "      <td>4</td>\n",
       "      <td>Kain</td>\n",
       "      <td>Tetal lusi dan pakan</td>\n",
       "      <td>SNI ISO 7211-2:2010</td>\n",
       "      <td>50000</td>\n",
       "    </tr>\n",
       "  </tbody>\n",
       "</table>\n",
       "</div>"
      ],
      "text/plain": [
       "  jenis_kegiatan         detail_jenis_kegiatan standar_yang_digunakan  \\\n",
       "0           Kain                    Lebar Kain     SNI ISO 22198:2010   \n",
       "1           Kain                    Tebal kain      SNI ISO 5084:2010   \n",
       "2           Kain  Berat kain per meter persegi      SNI ISO 3801:2010   \n",
       "3           Kain   Berat Kain per meter linier      SNI ISO 3801:2010   \n",
       "4           Kain          Tetal lusi dan pakan    SNI ISO 7211-2:2010   \n",
       "\n",
       "   tarif_rp  \n",
       "0     50000  \n",
       "1     40000  \n",
       "2     50000  \n",
       "3     50000  \n",
       "4     50000  "
      ]
     },
     "execution_count": 14,
     "metadata": {},
     "output_type": "execute_result"
    }
   ],
   "source": [
    "iris.head()"
   ]
  },
  {
   "cell_type": "code",
   "execution_count": 15,
   "metadata": {},
   "outputs": [
    {
     "data": {
      "text/html": [
       "<div>\n",
       "<style scoped>\n",
       "    .dataframe tbody tr th:only-of-type {\n",
       "        vertical-align: middle;\n",
       "    }\n",
       "\n",
       "    .dataframe tbody tr th {\n",
       "        vertical-align: top;\n",
       "    }\n",
       "\n",
       "    .dataframe thead th {\n",
       "        text-align: right;\n",
       "    }\n",
       "</style>\n",
       "<table border=\"1\" class=\"dataframe\">\n",
       "  <thead>\n",
       "    <tr style=\"text-align: right;\">\n",
       "      <th></th>\n",
       "      <th>jenis_kegiatan</th>\n",
       "      <th>detail_jenis_kegiatan</th>\n",
       "      <th>standar_yang_digunakan</th>\n",
       "      <th>tarif_rp</th>\n",
       "    </tr>\n",
       "  </thead>\n",
       "  <tbody>\n",
       "    <tr>\n",
       "      <td>86</td>\n",
       "      <td>Benang</td>\n",
       "      <td>Identifikasi serat secara kuantitatif : Dua je...</td>\n",
       "      <td>SNI ISO 1833:2011</td>\n",
       "      <td>85000</td>\n",
       "    </tr>\n",
       "    <tr>\n",
       "      <td>87</td>\n",
       "      <td>Benang</td>\n",
       "      <td>Identifikasi serat secara kuantitatif : Dua je...</td>\n",
       "      <td>SNI ISO 1833:2011</td>\n",
       "      <td>85000</td>\n",
       "    </tr>\n",
       "    <tr>\n",
       "      <td>88</td>\n",
       "      <td>Benang</td>\n",
       "      <td>Penambahan per jenis serat : Cara peralutan</td>\n",
       "      <td>SNI ISO 1833:2011</td>\n",
       "      <td>50000</td>\n",
       "    </tr>\n",
       "    <tr>\n",
       "      <td>89</td>\n",
       "      <td>Benang</td>\n",
       "      <td>Penambahan per jenis serat : Cara mekanika</td>\n",
       "      <td>SNI ISO 1833:2011</td>\n",
       "      <td>50000</td>\n",
       "    </tr>\n",
       "    <tr>\n",
       "      <td>90</td>\n",
       "      <td>Benang</td>\n",
       "      <td>Penambahan per jenis serat : Cara mikroskopis</td>\n",
       "      <td>SNI ISO 1833:2011</td>\n",
       "      <td>50000</td>\n",
       "    </tr>\n",
       "  </tbody>\n",
       "</table>\n",
       "</div>"
      ],
      "text/plain": [
       "   jenis_kegiatan                              detail_jenis_kegiatan  \\\n",
       "86         Benang  Identifikasi serat secara kuantitatif : Dua je...   \n",
       "87         Benang  Identifikasi serat secara kuantitatif : Dua je...   \n",
       "88         Benang        Penambahan per jenis serat : Cara peralutan   \n",
       "89         Benang         Penambahan per jenis serat : Cara mekanika   \n",
       "90         Benang      Penambahan per jenis serat : Cara mikroskopis   \n",
       "\n",
       "   standar_yang_digunakan  tarif_rp  \n",
       "86      SNI ISO 1833:2011     85000  \n",
       "87      SNI ISO 1833:2011     85000  \n",
       "88      SNI ISO 1833:2011     50000  \n",
       "89      SNI ISO 1833:2011     50000  \n",
       "90      SNI ISO 1833:2011     50000  "
      ]
     },
     "execution_count": 15,
     "metadata": {},
     "output_type": "execute_result"
    }
   ],
   "source": [
    "iris.tail()"
   ]
  },
  {
   "cell_type": "code",
   "execution_count": 16,
   "metadata": {},
   "outputs": [
    {
     "name": "stdout",
     "output_type": "stream",
     "text": [
      "<class 'pandas.core.frame.DataFrame'>\n",
      "RangeIndex: 91 entries, 0 to 90\n",
      "Data columns (total 4 columns):\n",
      "jenis_kegiatan            91 non-null object\n",
      "detail_jenis_kegiatan     91 non-null object\n",
      "standar_yang_digunakan    85 non-null object\n",
      "tarif_rp                  91 non-null int64\n",
      "dtypes: int64(1), object(3)\n",
      "memory usage: 3.0+ KB\n"
     ]
    }
   ],
   "source": [
    "iris.info()"
   ]
  },
  {
   "cell_type": "code",
   "execution_count": 17,
   "metadata": {},
   "outputs": [
    {
     "data": {
      "text/html": [
       "<div>\n",
       "<style scoped>\n",
       "    .dataframe tbody tr th:only-of-type {\n",
       "        vertical-align: middle;\n",
       "    }\n",
       "\n",
       "    .dataframe tbody tr th {\n",
       "        vertical-align: top;\n",
       "    }\n",
       "\n",
       "    .dataframe thead th {\n",
       "        text-align: right;\n",
       "    }\n",
       "</style>\n",
       "<table border=\"1\" class=\"dataframe\">\n",
       "  <thead>\n",
       "    <tr style=\"text-align: right;\">\n",
       "      <th></th>\n",
       "      <th>tarif_rp</th>\n",
       "    </tr>\n",
       "  </thead>\n",
       "  <tbody>\n",
       "    <tr>\n",
       "      <td>count</td>\n",
       "      <td>91.000000</td>\n",
       "    </tr>\n",
       "    <tr>\n",
       "      <td>mean</td>\n",
       "      <td>61538.461538</td>\n",
       "    </tr>\n",
       "    <tr>\n",
       "      <td>std</td>\n",
       "      <td>22872.743455</td>\n",
       "    </tr>\n",
       "    <tr>\n",
       "      <td>min</td>\n",
       "      <td>30000.000000</td>\n",
       "    </tr>\n",
       "    <tr>\n",
       "      <td>25%</td>\n",
       "      <td>50000.000000</td>\n",
       "    </tr>\n",
       "    <tr>\n",
       "      <td>50%</td>\n",
       "      <td>50000.000000</td>\n",
       "    </tr>\n",
       "    <tr>\n",
       "      <td>75%</td>\n",
       "      <td>75000.000000</td>\n",
       "    </tr>\n",
       "    <tr>\n",
       "      <td>max</td>\n",
       "      <td>180000.000000</td>\n",
       "    </tr>\n",
       "  </tbody>\n",
       "</table>\n",
       "</div>"
      ],
      "text/plain": [
       "            tarif_rp\n",
       "count      91.000000\n",
       "mean    61538.461538\n",
       "std     22872.743455\n",
       "min     30000.000000\n",
       "25%     50000.000000\n",
       "50%     50000.000000\n",
       "75%     75000.000000\n",
       "max    180000.000000"
      ]
     },
     "execution_count": 17,
     "metadata": {},
     "output_type": "execute_result"
    }
   ],
   "source": [
    "iris.describe()"
   ]
  },
  {
   "cell_type": "code",
   "execution_count": 20,
   "metadata": {},
   "outputs": [],
   "source": [
    "import numpy as np"
   ]
  },
  {
   "cell_type": "code",
   "execution_count": 23,
   "metadata": {},
   "outputs": [],
   "source": [
    "import matplotlib.pyplot as plt"
   ]
  },
  {
   "cell_type": "code",
   "execution_count": 29,
   "metadata": {},
   "outputs": [
    {
     "data": {
      "image/png": "[encoded data removed]",
      "text/plain": [
       "<Figure size 360x360 with 1 Axes>"
      ]
     },
     "metadata": {
      "needs_background": "light"
     },
     "output_type": "display_data"
    }
   ],
   "source": [
    "plt.figure(figsize=(5,5)) \n",
    "plt.plot(iris ['tarif_rp'], label='Tarif') \n",
    "plt.xlabel('Jumlah Data') \n",
    "plt.ylabel('Tarif(Rp)') \n",
    "plt.title('Data Pengujian Kerajinan dan Tekstil di Laboratorium Tekstil') \n",
    "plt.legend()\n",
    "plt.show()"
   ]
  },
  {
   "cell_type": "code",
   "execution_count": null,
   "metadata": {},
   "outputs": [],
   "source": []
  }
 ],
 "metadata": {
  "kernelspec": {
   "display_name": "Python 3",
   "language": "python",
   "name": "python3"
  },
  "language_info": {
   "codemirror_mode": {
    "name": "ipython",
    "version": 3
   },
   "file_extension": ".py",
   "mimetype": "text/x-python",
   "name": "python",
   "nbconvert_exporter": "python",
   "pygments_lexer": "ipython3",
   "version": "3.7.4"
  }
 },
 "nbformat": 4,
 "nbformat_minor": 2
}
